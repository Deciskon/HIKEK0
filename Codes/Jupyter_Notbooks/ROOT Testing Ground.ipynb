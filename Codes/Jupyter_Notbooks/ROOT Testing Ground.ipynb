{
 "cells": [
  {
   "cell_type": "code",
   "execution_count": 1,
   "id": "5621ff9e",
   "metadata": {},
   "outputs": [
    {
     "name": "stdout",
     "output_type": "stream",
     "text": [
      "jawd"
     ]
    }
   ],
   "source": [
    "/*ROOT Libraries and Their Purpose*/ \n",
    "#include <TH1F.h> //<- histograms\n",
    "#include <TF1.h> //<- learn how to fit simple functions\n",
    "#include <TCanvas.h> //<- just to display plots\n",
    "#include <TFile.h> //<- where things are saved (file.root)\n",
    "#include <TTree.h> //<- just need to know how to open and get stuff from them but simple structure \n",
    "#include <TGraph.h> //<- graph a bit like TH1F but different\n",
    "\n",
    "\n",
    "#include <TString.h> //<- string manipulations in root to make life easier\n",
    "#include <TGraphErrors.h> //<- data plots with error bars\n",
    "#include <TGraphPolar.h> //<- plot polar coordinates graphs\n",
    "#include <TMultiGraph.h> //<- allows us to manipulate multiple graphs together\n",
    "#include <THStack.h> //<- allows us to manipulate multiple histograms together\n",
    "#include <TNtuple.h> //<- use N-Tuples which are simplified Trees\n",
    "\n",
    "#include <TF2.h>\n",
    "#include <TF3.h>\n",
    "#include <TGraph2D.h>\n",
    "#include <TGraph2DErrors.h>\n",
    "\n",
    "#include <RooRealVar.h>\n",
    "#include <RooDataSet.h>\n",
    "#include <RooGaussian.h>\n",
    "#include <RooPlot.h>\n",
    "#include <TAxis.h>\n",
    "\n",
    "cout<<\"jawd\";"
   ]
  },
  {
   "cell_type": "code",
   "execution_count": 1,
   "id": "6433699a",
   "metadata": {},
   "outputs": [
    {
     "name": "stdout",
     "output_type": "stream",
     "text": [
      "Enter 'n':\n",
      "********\n",
      "*******\n",
      "******\n",
      "*****\n",
      "****\n",
      "***\n",
      "**\n",
      "*\n"
     ]
    }
   ],
   "source": [
    "/*C++ Testing*/\n",
    "int i,j,n;\n",
    "n=8;\n",
    "cout<<\"Enter 'n':\"<<endl;\n",
    "cin>>n;\n",
    "for(i=0;i<n;i++)\n",
    "{\n",
    "    for(j=(n-i);j>0;j--)\n",
    "    {\n",
    "        cout<<\"*\";\n",
    "    }\n",
    "    printf(\"\\n\");\n",
    "}\n"
   ]
  },
  {
   "cell_type": "code",
   "execution_count": 2,
   "id": "28ace8a8",
   "metadata": {},
   "outputs": [],
   "source": [
    "/*TCanvas Testing*/\n",
    "TCanvas clog(\"c\",\"Canvas\",100,100);\n",
    "clog.SetLogy(); \n",
    "\n",
    "TCanvas c(\"c\",\"Canvas\",100,100);\n",
    "c.Divide(2,2);"
   ]
  },
  {
   "cell_type": "code",
   "execution_count": 3,
   "id": "03b49a9b",
   "metadata": {},
   "outputs": [
    {
     "name": "stderr",
     "output_type": "stream",
     "text": [
      "Info in <TPad::Print>: ps file c_1.ps has been created\n",
      "Info in <TPad::Print>: ps file c_2.ps has been created\n",
      "Info in <TPad::Print>: ps file c_3.ps has been created\n"
     ]
    }
   ],
   "source": [
    "/*TF1 Testing*/\n",
    "c.cd(1);\n",
    "TF1 f1(\"f1\",\"x^2 + 2*x\",-10,10);\n",
    "f1.Draw();\n",
    "gPad->Print();\n",
    "\n",
    "\n",
    "/*TF2 Testing*/\n",
    "c.cd(2);\n",
    "TF2 f2(\"f2\",\"x*y*sin(x)\",-10,10);\n",
    "f2.Draw();\n",
    "gPad->Print();\n",
    "\n",
    "\n",
    "/*TF3 Testing*/\n",
    "c.cd(3);\n",
    "TF3 f3(\"f3\",\"x*y*sin(z)\",-10,10);\n",
    "f3.Draw();\n",
    "gPad->Print();"
   ]
  },
  {
   "cell_type": "code",
   "execution_count": 1,
   "id": "e3b9c117",
   "metadata": {},
   "outputs": [
    {
     "name": "stdout",
     "output_type": "stream",
     "text": [
      "Number of Bins = 20\n",
      "Number of Objects in 6th Bin = 46"
     ]
    },
    {
     "name": "stderr",
     "output_type": "stream",
     "text": [
      "Info in <TCanvas::Print>: ps file ch.ps has been created\n"
     ]
    }
   ],
   "source": [
    "/*TH1F Testing*/\n",
    "TCanvas ch(\"ch\",\"Histogram\",100,100);\n",
    "TH1F h(\"h\",\"Histogram;X;Y(Frequency)\",20,-10,10);\n",
    "int i;\n",
    "for(i=0;i<1000;i++)\n",
    "{\n",
    "    h.Fill(gRandom->Gaus(0,3));\n",
    "}\n",
    "h.SetMinimum(0);\n",
    "h.SetMaximum(200);\n",
    "h.SetFillColor(kBlue);\n",
    "gStyle->SetOptStat(111111111);\n",
    "cout<<\"Number of Bins = \"<<h.GetNbinsX()<<endl;\n",
    "cout<<\"Number of Objects in 6th Bin = \"<<h.GetBinContent(6);\n",
    "h.Draw();\n",
    "gPad->Print();"
   ]
  },
  {
   "cell_type": "code",
   "execution_count": 6,
   "id": "ab8b2b6f",
   "metadata": {},
   "outputs": [
    {
     "name": "stderr",
     "output_type": "stream",
     "text": [
      "Info in <TCanvas::Print>: ps file c.ps has been created\n"
     ]
    }
   ],
   "source": [
    "/*TGraph Testing*/\n",
    "TGraph g(\"/home/aiskon/Desktop/data.csv\",\"%lg %lg\",\",\");\n",
    "g.Draw(\"\");\n",
    "gPad->Print();\n"
   ]
  },
  {
   "cell_type": "code",
   "execution_count": 19,
   "id": "8c57715a",
   "metadata": {},
   "outputs": [
    {
     "name": "stdout",
     "output_type": "stream",
     "text": [
      "Uniform = 18\n",
      "Gaussian = 102\n",
      "Poisson = 4\n",
      "Exponential = 0\n",
      "Binomial = 5\n",
      "Landau = 90"
     ]
    }
   ],
   "source": [
    "/*gRandom Testing*/\n",
    "int uni=gRandom->Uniform(1,20);\n",
    "cout<<\"Uniform = \"<<uni;\n",
    "\n",
    "int gauss=gRandom->Gaus(100,15);\n",
    "cout<<\"\\nGaussian = \"<<gauss;\n",
    "\n",
    "int poison=gRandom->Poisson(4);\n",
    "cout<<\"\\nPoisson = \"<<poison;\n",
    "\n",
    "int exp=gRandom->Exp(2);\n",
    "cout<<\"\\nExponential = \"<<exp;\n",
    "\n",
    "int bino=gRandom->Binomial(10,0.5);\n",
    "cout<<\"\\nBinomial = \"<<bino;\n",
    "\n",
    "int land=gRandom->Landau(100,15);\n",
    "cout<<\"\\nLandau = \"<<land;"
   ]
  },
  {
   "cell_type": "code",
   "execution_count": 9,
   "id": "7cf2e246",
   "metadata": {},
   "outputs": [
    {
     "name": "stdout",
     "output_type": "stream",
     "text": [
      "\n",
      "****************************************\n",
      "Minimizer is Linear / Migrad\n",
      "Chi2                      =      15.5879\n",
      "NDf                       =            8\n",
      "Slope                     =      8.13939   +/-   0.448055    \n",
      "Intercept                 =      6.67879   +/-   0.153681    \n"
     ]
    },
    {
     "name": "stderr",
     "output_type": "stream",
     "text": [
      "Info in <TCanvas::Print>: ps file cf.ps has been created\n"
     ]
    }
   ],
   "source": [
    "/*TGraph - Fit Testing*/\n",
    "TCanvas cf(\"cf\",\"Data Fitting\",100,100);\n",
    "f1r=new TF1(\"f1r\",\"pol1\",-10,10); // OR    f1r=new TF1(\"f1r\",\"[0]*x + [1]\",-10,10);\n",
    "int i,y;\n",
    "\n",
    "TGraph g1;\n",
    "for(i=-5;i<5;i++)\n",
    "{\n",
    "    y=7*i + 9 + gRandom->Gaus(0,1);\n",
    "    g1.SetPoint((i+5),i,y);\n",
    "}\n",
    "f1r->SetParNames(\"Slope\",\"Intercept\");\n",
    "//fexpo->SetParLimits(0,5,10,1,5,10);\n",
    "g1.Fit(f1r);\n",
    "g1.SetMarkerStyle(2);\n",
    "g1.Draw(\"AP\");\n",
    "gPad->Print();\n"
   ]
  },
  {
   "cell_type": "code",
   "execution_count": 7,
   "id": "2f142853",
   "metadata": {},
   "outputs": [
    {
     "name": "stdout",
     "output_type": "stream",
     "text": [
      "test.root:/\n",
      "test.root:/testdir\n",
      "TFile**\t\ttest.root\t\n",
      " TFile*\t\ttest.root\t\n",
      "  OBJ: TH1F\tha\tHistogram : 0 at: 0x7fa848065360\n",
      "  OBJ: TH1F\thb\tHistogram : 0 at: 0x7fa848065750\n",
      "  KEY: TH1F\tha;1\tHistogram\n",
      "  KEY: TH1F\thb;1\tHistogram\n",
      "  KEY: TDirectoryFile\ttestdir;1\ttestdir\n"
     ]
    }
   ],
   "source": [
    "/*TFile Testing*/\n",
    "TFile fi(\"test.root\",\"recreate\");\n",
    "TH1F ha(\"ha\",\"Histogram;X;Y(Frequency)\",10,-4,4);\n",
    "ha.FillRandom(\"gaus\",100);\n",
    "ha.Write(); \n",
    "\n",
    "TH1F hb(\"hb\",\"Histogram;X;Y(Frequency)\",10,-4,4);\n",
    "hb.FillRandom(\"gaus\",200);\n",
    "hb.Write();\n",
    "\n",
    "gDirectory->pwd();\n",
    "\n",
    "fi.mkdir(\"testdir\");\n",
    "fi.cd(\"testdir\");\n",
    "gDirectory->pwd();\n",
    "hb.FillRandom(\"gaus\",100);\n",
    "hb.Write();\n",
    "\n",
    "fi.cd();\n",
    "fi.Delete(\"testdir\");\n",
    "\n",
    "fi.ls();\n",
    "//fi.Close();\n",
    "//hf.Draw();\n",
    "//gPad->Print();"
   ]
  },
  {
   "cell_type": "code",
   "execution_count": 8,
   "id": "81022aa2",
   "metadata": {},
   "outputs": [
    {
     "name": "stdout",
     "output_type": "stream",
     "text": [
      "***********************************************\n",
      "*    Row   * Instance * Siz'o'n.S * Deee.Deee *\n",
      "***********************************************\n",
      "*        0 *        0 *         0 *           *\n",
      "*        1 *        0 *         5 *         0 *\n",
      "*        1 *        1 *         5 *         0 *\n",
      "*        1 *        2 *         5 *         0 *\n",
      "*        1 *        3 *         5 *         0 *\n",
      "*        1 *        4 *         5 *         0 *\n",
      "*        2 *        0 *         5 *         0 *\n",
      "*        2 *        1 *         5 *        70 *\n",
      "*        2 *        2 *         5 *         0 *\n",
      "*        2 *        3 *         5 *        51 *\n",
      "*        2 *        4 *         5 *        93 *\n",
      "*        3 *        0 *         4 *        21 *\n",
      "*        3 *        1 *         4 *        70 *\n",
      "*        3 *        2 *         4 *         0 *\n",
      "*        3 *        3 *         4 *        51 *\n",
      "***********************************************\n"
     ]
    }
   ],
   "source": [
    "/*TTree Testing*/\n",
    "TTree t(\"t\",\"Test Tree\");\n",
    "Float_t a[3],b[2],c[2]; //or 'Int_t' works too\n",
    "\n",
    "t.Branch(\"Anacondont\",a,\"a[3]/F\");\n",
    "t.Branch(\"Beetch\",b,\"b[2]/F\");\n",
    "t.Branch(\"Condate\",c,\"c[2]/F\");\n",
    "\n",
    "t.Fill();\n",
    "\n",
    "a[0]=42;\n",
    "a[1]=44;\n",
    "b[0]=8;\n",
    "t.Fill();\n",
    "\n",
    "c[0]=99;\n",
    "a[0]=666;\n",
    "t.Fill();\n",
    "\n",
    "//t.Scan(\"*\");\n",
    "//t.Print();\n",
    "//t.Print(\"toponly\");\n",
    "\n",
    "t.Write();\n",
    "\n",
    "\n",
    "//_______________________________________________________________________________________________________\n",
    "\n",
    "TTree td(\"td\",\"Dynamic Tree\");\n",
    "Int_t n,d[100];\n",
    "\n",
    "td.Branch(\"Siz'o'n\",&n,\"n/I\");\n",
    "td.Branch(\"Deee\",d,\"d[n]/I\");\n",
    "\n",
    "td.Fill();\n",
    "\n",
    "n=5;\n",
    "td.Fill();\n",
    "\n",
    "d[4]=93;\n",
    "d[1]=70;\n",
    "d[3]=51;\n",
    "td.Fill();\n",
    "\n",
    "n=4;\n",
    "d[0]=21;\n",
    "td.Fill();\n",
    "\n",
    "td.Scan();\n",
    "//td.Print();\n",
    "//td.GetListOfLeaves()->Print();\n",
    "td.Write();\n",
    "fi.Close();"
   ]
  },
  {
   "cell_type": "code",
   "execution_count": 5,
   "id": "f07acace",
   "metadata": {},
   "outputs": [],
   "source": [
    "/*File Object Extraction Testing*/\n",
    "TFile fi(\"test.root\");\n",
    "\n",
    "\n",
    "//INCOMPLETE"
   ]
  },
  {
   "cell_type": "code",
   "execution_count": null,
   "id": "97790ef8",
   "metadata": {},
   "outputs": [],
   "source": [
    "/*TGraphErrors and TGraph2DErrors Testing*/\n",
    "//TF2 f2d(\"fit\",\"((1/([0]*root(2*pi)))*exp((-0.5)*((x-[1])/[0])^2)) + ((1/([2]*root(2*pi)))*exp((-0.5)*((y-[3])/[2])^2))\",-3,3,-3,3);\n",
    "TGraph2DErrors g2;\n",
    "int i,z,x,y;\n",
    "for(i=-3;i<3;i++)\n",
    "{\n",
    "    z=gRandom->Gaus(0,1);\n",
    "    g1.SetPoint(i,i,z);\n",
    "}\n",
    "g2.Fit(f2d);\n",
    "g2.SetMarkerStyle(2);\n",
    "g2.Draw(\"AP\");\n",
    "gPad->Print();\n",
    "\n",
    "\n",
    "//INCOMPLETE"
   ]
  },
  {
   "cell_type": "code",
   "execution_count": 3,
   "id": "8ee27856",
   "metadata": {},
   "outputs": [
    {
     "name": "stdout",
     "output_type": "stream",
     "text": [
      "35000"
     ]
    },
    {
     "name": "stderr",
     "output_type": "stream",
     "text": [
      "Warning in <TROOT::Append>: Replacing existing TH1: h (Potential memory leak).\n",
      "Info in <TCanvas::Print>: ps file ch.ps has been created\n"
     ]
    }
   ],
   "source": [
    "/*TH2F Testing*/\n",
    "TCanvas ch(\"ch\",\"Histogram\",100,100);\n",
    "TH2F h(\"h\",\"Title\",/*xbins*/100,/*xlow*/-10,/*xup*/10,/*ybins*/100,/*ylow*/-10,/*yup*/10);\n",
    "TRandom r;\n",
    "int i;\n",
    "double x,y;\n",
    "for(i=0;i<1e7;i++)\n",
    "{\n",
    "    x=r.Gaus(/*mean*/0,/*stddev*/2);\n",
    "    y=r.Gaus(0,2);\n",
    "    h.Fill(x,y);\n",
    "}\n",
    "h.GetXaxis()->SetTitle(\"X\");\n",
    "h.GetYaxis()->SetTitle(\"Y\");\n",
    "h.GetZaxis()->SetTitle(\"Z\");\n",
    "h.SetMarkerStyle(7);\n",
    "h.SetContour(1000); //Number of Colours\n",
    "gStyle->SetPalette(62);\n",
    "gStyle->SetOptStat(111111111); //9 1's\n",
    "h.SetBinContent(/*xbin*/1, /*ybin*/1, /*content*/35000);\n",
    "cout<<h.GetBinContent(/*xbin*/1, /*ybin*/1);\n",
    "//cout<<\"Number of Bins = \"<<h.GetNbinsX()<<endl;\n",
    "//cout<<\"Number of Objects in 6th Bin = \"<<h.GetBinContent(6);\n",
    "h.Draw(\"colz\");\n",
    "gPad->Print();"
   ]
  },
  {
   "cell_type": "code",
   "execution_count": 2,
   "id": "07646670",
   "metadata": {},
   "outputs": [],
   "source": [
    "/*gStyle->SetPalette(n); Useful Palettes*/\n",
    "\n",
    "//n=>\n",
    "\n",
    "//1)  51            (Blue)\n",
    "//2)  52/kGreyScale (Grey)\n",
    "//3)  53            (Yellow/Orange)\n",
    "//4)  54            (DarkBlue/Yellow)\n",
    "//5)  55/kRainBow   (Rainbow)\n",
    "//6)  56            (Inverse 53)\n",
    "//7)  57            (Default)\n",
    "//8)  60            (Violet/Red)\n",
    "//9)  61            (Green/Blue)\n",
    "//10) 62            (Black/Blue/Pink//Galaxy)\n",
    "//11) 68            (Green/Yellow)\n",
    "//12) 71            (Blue/Green)\n",
    "//13) 75            (Red/Pink)\n",
    "//14) 81            (Purple/Pink)\n",
    "//15) 94            (Black/Yellow)\n",
    "//16) 97            (Black/Orange)"
   ]
  },
  {
   "cell_type": "code",
   "execution_count": 26,
   "id": "ac263dbd",
   "metadata": {},
   "outputs": [
    {
     "name": "stderr",
     "output_type": "stream",
     "text": [
      "Info in <TCanvas::Print>: ps file Roofit.ps has been created\n"
     ]
    }
   ],
   "source": [
    "/*RooFit Testing*/\n",
    "#include \"RooRealVar.h\"\n",
    "#include \"RooDataSet.h\"\n",
    "#include \"RooGaussian.h\"\n",
    "#include \"TCanvas.h\"\n",
    "#include \"TAxis.h\"\n",
    "#include \"RooPlot.h\"\n",
    "#include \"RooFitResult.h\"\n",
    "#include \"RooGenericPdf.h\"\n",
    "using namespace RooFit;\n",
    "\n",
    "double CL = 1.0;\n",
    "double tauKS = 0.08954, tauKL = 51.16; //in nano-seconds\n",
    "double MK = 497.614 /*in MeV/c^2*/,  dMK = 2.1890e-11 /*in MeV/c^2*/;\n",
    "double Cint = 0.12,  Phi0 = 0.201357921 /*Phi0 = arccos(sqrt(0.96))*/;\n",
    "double DiluCon = 0.285714286 /*Dilucon = 2.0/7.0;   N(K0)/N(K0bar) = 1.8*/;\n",
    "\n",
    "//double , CS = 0.43, Csin = (Cint*DiluCon*sin(Phi0)), Ccos = (Cint*DiluCon*cos(Phi0)); //C_f(x) = Cint*Dilucon*f(Phi0)\n",
    "//Csin = 0.00685714   ;   Ccos = 0.033593\n",
    "\n",
    "double mom = 75000.0; //in MeV/c\n",
    "double c_light = 299.792; //in 10^6 m/s\n",
    "double tauK = 2.0/((1.0/tauKS)+(1.0/tauKL)), gamma = mom/MK;\n",
    "\n",
    "double lambdaL = gamma*c_light*tauKL, lambdaS = gamma*c_light*tauKS, lambda = gamma*c_light*tauK;\n",
    "\n",
    "ostringstream decayform;\n",
    "//decayform<<CL<<\"*exp(-x*\"<<tauKS/tauKL<<\") + CS*exp(-x*\"<<tauKS/tauKS<<\") + 2*exp(-x*\"<<tauKS/tauK<<\")*((Ccos*cos(\"<<dMK<<\"*x/\"<<tauKS<<\"e-9)) + (Csin*sin(\"<<dMK<<\"*x/\"<<tauKS<<\"e-9)))\";                             \n",
    "decayform<<CL<<\"*exp(-x*\"<<tauKS/tauKL<<\") + CS*exp(-x*\"<<tauKS/tauKS<<\") + 2*exp(-x*\"<<tauKS/tauK<<\")*(Ccos*cos(\"<<dMK<<\"*x/\"<<tauKS<<\"e-9))\";                             \n",
    "//decayform<<CL<<\"*exp(-x*\"<<tauKS/tauKL<<\")\";\n",
    "//decayform<<\"CS*exp(-x*\"<<tauKS/tauKS<<\")\";\n",
    "//decayform<<CL<<\"*exp(-x*\"<<tauKS/tauKL<<\") + CS*exp(-x*\"<<tauKS/tauKS<<\")\";\n",
    "//decayform<<\"2*exp(-x*\"<<tauKS/tauK<<\")*((Ccos*cos(\"<<dMK<<\"*x*\"<<tauKS<<\")) + (Csin*sin(\"<<dMK<<\"*x*\"<<tauKS<<\")))\";\n",
    "\n",
    "int i=0, j=0, noh=(1830*8);\n",
    "\n",
    "RooRealVar x(\"x\", \"x\", 0, 6);\n",
    "RooRealVar CS(\"CS\", \"CS\", 0.43, 0.01, 10.0);\n",
    "RooRealVar Ccos(\"Ccos\", \"Ccos\", 0.033593, 0.001, 0.1);\n",
    "//RooRealVar Csin(\"Csin\", \"Csin\", 0, 0, 0);\n",
    "//RooGenericPdf decaypdf(\"decaypdf\", \"decaypdf\", decayform.str().c_str(), RooArgSet(x, CS, Ccos, Csin));\n",
    "RooGenericPdf decaypdf(\"decaypdf\", \"decaypdf\", decayform.str().c_str(), RooArgSet(x, CS, Ccos));\n",
    "\n",
    "\n",
    "RooDataSet *data = decaypdf.generate(x, noh);\n",
    "std::unique_ptr<RooFitResult> fitResult{decaypdf.fitTo(*data, Save(), PrintLevel(-1))};\n",
    "fitResult->Print();\n",
    "\n",
    "TCanvas can(\"can\");\n",
    "can.cd();\n",
    "RooPlot *xframe = x.frame(Title(\"K0 Decay PDF\"));\n",
    "data->plotOn(xframe);\n",
    "decaypdf.plotOn(xframe);\n",
    "xframe->Draw();\n",
    "gPad->Print(\"Roofit.png\");\n",
    "\n",
    "//cout<<\"\\n\\n\"<<(fitResult->correlation(\"CS\",\"Csin\"))<<\"\\n\"<<fitResult->correlation(\"CS\",\"Ccos\")<<\"\\n\"<<fitResult->correlation(\"Csin\",\"Ccos\");\n",
    "cout<<\"\\n\\n\"<<fitResult->correlation(\"CS\",\"Ccos\");"
   ]
  },
  {
   "cell_type": "code",
   "execution_count": null,
   "id": "93f7fdd0",
   "metadata": {},
   "outputs": [],
   "source": []
  },
  {
   "cell_type": "code",
   "execution_count": null,
   "id": "21ec016d",
   "metadata": {},
   "outputs": [],
   "source": []
  }
 ],
 "metadata": {
  "kernelspec": {
   "display_name": "ROOT C++",
   "language": "c++",
   "name": "root"
  },
  "language_info": {
   "codemirror_mode": "text/x-c++src",
   "file_extension": ".C",
   "mimetype": " text/x-c++src",
   "name": "c++"
  }
 },
 "nbformat": 4,
 "nbformat_minor": 5
}
